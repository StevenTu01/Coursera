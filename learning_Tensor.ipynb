{
  "nbformat": 4,
  "nbformat_minor": 0,
  "metadata": {
    "colab": {
      "name": "learning Tensor.ipynb",
      "provenance": [],
      "collapsed_sections": [],
      "authorship_tag": "ABX9TyNj6ZpG4G0VBOnb6YfiSBOc",
      "include_colab_link": true
    },
    "kernelspec": {
      "name": "python3",
      "display_name": "Python 3"
    }
  },
  "cells": [
    {
      "cell_type": "markdown",
      "metadata": {
        "id": "view-in-github",
        "colab_type": "text"
      },
      "source": [
        "<a href=\"https://colab.research.google.com/github/StevenTu01/Coursera/blob/master/learning_Tensor.ipynb\" target=\"_parent\"><img src=\"https://colab.research.google.com/assets/colab-badge.svg\" alt=\"Open In Colab\"/></a>"
      ]
    },
    {
      "cell_type": "code",
      "metadata": {
        "id": "WW_t4Wm5HfYj"
      },
      "source": [
        "import torch\n",
        "import math"
      ],
      "execution_count": 2,
      "outputs": []
    },
    {
      "cell_type": "code",
      "metadata": {
        "colab": {
          "base_uri": "https://localhost:8080/"
        },
        "id": "MW7EDsy_Hq05",
        "outputId": "7b152719-293c-4bcb-ff5c-1ce74c8dab39"
      },
      "source": [
        "dtype = torch.float\n",
        "device = torch.device(\"cpu\")\n",
        "\n",
        "x = torch.linspace(-math.pi, math.pi, 2000, device=device, dtype=dtype)\n",
        "y = torch.sin(x)\n",
        "\n",
        "a = torch.randn((), device=device, dtype=dtype)\n",
        "b = torch.randn((), device=device, dtype=dtype)\n",
        "c = torch.randn((), device=device, dtype=dtype)\n",
        "d = torch.randn((), device=device, dtype=dtype)\n",
        "\n",
        "leaning_rate = 1e-6\n",
        "\n",
        "for t in range(2000):\n",
        "  y_pred = a + b * x + c * x ** 2 + d * x ** 3\n",
        "\n",
        "  loss = (y_pred - y).pow(2).sum().item()\n",
        "  if t% 100 == 99:\n",
        "      print(t,loss)\n",
        "\n",
        "  grad_y_pred = 2.0 * (y_pred - y)\n",
        "  grad_a = grad_y_pred.sum()\n",
        "  grad_b = (grad_y_pred * x).sum()\n",
        "  grad_c = (grad_y_pred * x ** 2).sum()\n",
        "  grad_d = (grad_y_pred * x ** 3).sum()\n",
        "\n",
        "  a -= learning_rate * grad_a\n",
        "  b -= learning_rate * grad_b\n",
        "  c -= learning_rate * grad_c    \n",
        "  d -= learning_rate * grad_d\n",
        "\n",
        "print(f'Result: y = {a.item()} + {b.item()} x + {c.item()} x^2 + {d.item()} x^3')\n"
      ],
      "execution_count": 10,
      "outputs": [
        {
          "output_type": "stream",
          "text": [
            "99 939.588134765625\n",
            "199 661.5533447265625\n",
            "299 466.8124084472656\n",
            "399 330.32916259765625\n",
            "499 234.62364196777344\n",
            "599 167.47760009765625\n",
            "699 120.34508514404297\n",
            "799 87.2452163696289\n",
            "899 63.98967742919922\n",
            "999 47.64370346069336\n",
            "1099 36.14978790283203\n",
            "1199 28.064565658569336\n",
            "1299 22.375083923339844\n",
            "1399 18.370079040527344\n",
            "1499 15.54996395111084\n",
            "1599 13.563558578491211\n",
            "1699 12.164007186889648\n",
            "1799 11.177658081054688\n",
            "1899 10.482346534729004\n",
            "1999 9.99207592010498\n",
            "Result: y = -0.03551214933395386 + 0.8635674118995667 x + 0.006126434076577425 x^2 + -0.09430141001939774 x^3\n"
          ],
          "name": "stdout"
        }
      ]
    },
    {
      "cell_type": "code",
      "metadata": {
        "colab": {
          "base_uri": "https://localhost:8080/"
        },
        "id": "3UdhzuauOUGs",
        "outputId": "be1eb9fe-3062-41e7-f15c-cee1eff0b5fe"
      },
      "source": [
        "c = torch.tensor(20)\n",
        "print (c.ndimension()) \n",
        "print (c.item())\n",
        "print(c)"
      ],
      "execution_count": 12,
      "outputs": [
        {
          "output_type": "stream",
          "text": [
            "0\n",
            "20\n",
            "tensor(20)\n"
          ],
          "name": "stdout"
        }
      ]
    },
    {
      "cell_type": "code",
      "metadata": {
        "colab": {
          "base_uri": "https://localhost:8080/"
        },
        "id": "TFkugwwvO9tH",
        "outputId": "786bbb9f-bdb9-4bab-8241-6da7a7d71f4d"
      },
      "source": [
        "a = torch.randn((3,2))\n",
        "a"
      ],
      "execution_count": 3,
      "outputs": [
        {
          "output_type": "execute_result",
          "data": {
            "text/plain": [
              "tensor([[ 1.4981,  0.8346],\n",
              "        [ 0.5221, -0.4544],\n",
              "        [ 1.1875,  1.0930]])"
            ]
          },
          "metadata": {
            "tags": []
          },
          "execution_count": 3
        }
      ]
    },
    {
      "cell_type": "code",
      "metadata": {
        "id": "sjJB1WHUbTMP"
      },
      "source": [
        "c = a.numpy()"
      ],
      "execution_count": 8,
      "outputs": []
    },
    {
      "cell_type": "code",
      "metadata": {
        "colab": {
          "base_uri": "https://localhost:8080/"
        },
        "id": "v7ONRgPhbfY0",
        "outputId": "d1fcc48b-c40a-451a-ff31-f027db66743f"
      },
      "source": [
        "tensor_a = torch.from_numpy(c)\n",
        "tensor_a"
      ],
      "execution_count": 9,
      "outputs": [
        {
          "output_type": "execute_result",
          "data": {
            "text/plain": [
              "tensor([[ 1.4981,  0.8346],\n",
              "        [ 0.5221, -0.4544],\n",
              "        [ 1.1875,  1.0930]])"
            ]
          },
          "metadata": {
            "tags": []
          },
          "execution_count": 9
        }
      ]
    },
    {
      "cell_type": "code",
      "metadata": {
        "id": "y5Jb6PQ8cOyH"
      },
      "source": [
        ""
      ],
      "execution_count": null,
      "outputs": []
    }
  ]
}